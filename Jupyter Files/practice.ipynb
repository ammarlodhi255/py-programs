{
 "cells": [
  {
   "cell_type": "code",
   "execution_count": 26,
   "metadata": {},
   "outputs": [
    {
     "name": "stdout",
     "output_type": "stream",
     "text": [
      "1\n",
      "2\n",
      "3\n",
      "4\n",
      "Ammar\n",
      "Ahmed\n",
      "Sukkur IBA\n",
      "{1, 2, 3, 4, 5, 6, 7}\n",
      "{1, 2, 3, 4}\n",
      "After adding items: {1, 2, 3, 4}\n",
      "10\n",
      "1\n",
      "array('i', [1, 2, 3, 4])\n",
      "array('i', [1, 2, 3, 4, 5, 6, 7, 8])\n",
      "1\n",
      "1\n",
      "<built-in method buffer_info of array.array object at 0x00000133209F94E0>\n"
     ]
    }
   ],
   "source": [
    "# num1 = int(input('Enter first num: '))\n",
    "# num2 = int(input('Enter second num: '))\n",
    "\n",
    "# print(f'Sum is: {num1 + num2}')\n",
    "\n",
    "import array as arr\n",
    "\n",
    "my_dict = {'Ammar':21, 'Manaf':20, 'University':'Sukkur IBA'}\n",
    "my_dict.get('Manaf')\n",
    "\n",
    "list_1 = [1, 2, 3, 4]\n",
    "list_2 = ['Ammar', 'Ahmed', 'Sukkur IBA']\n",
    "\n",
    "list_3 = [list_1, list_2]\n",
    "\n",
    "for i in range(len(list_3)):\n",
    "    for j in range(len(list_3[i])):\n",
    "        print(list_3[i][j])\n",
    "\n",
    "set_1 = {5, 6, 7}\n",
    "\n",
    "set_1 |= set(list_1)\n",
    "print(set_1)\n",
    "\n",
    "set_1 = set(list_1)\n",
    "print(set_1)\n",
    "for item in list_1:\n",
    "    set_1.add(item)\n",
    "\n",
    "print(f'After adding items: {set_1}')\n",
    "\n",
    "str_1 = '%d' % 10\n",
    "print(str_1)\n",
    "\n",
    "print(str_1[0])\n",
    "\n",
    "arr_nums1 = arr.array('i', [1, 2, 3, 4]) #You would only use an array, if you are working with fixed # of items\n",
    "print(arr_nums1)\n",
    "\n",
    "arr_nums2 = arr.array('i', [5, 6, 7, 8])\n",
    "arr_nums1_2 = arr.array('i') # Why do we need to write this file\n",
    "arr_nums1_2 = arr_nums1 + arr_nums2\n",
    "\n",
    "print(arr_nums1_2)\n",
    "print(arr_nums1_2[0])\n",
    "print(arr_nums1_2.index(2))\n",
    "print(arr_nums1_2.buffer_info)\n"
   ]
  }
 ],
 "metadata": {
  "interpreter": {
   "hash": "d1c379e4bb87bd17207e86234ba81d8c9c52a9ea909236e8453250fcdfd0dbed"
  },
  "kernelspec": {
   "display_name": "Python 3.10.0 64-bit",
   "language": "python",
   "name": "python3"
  },
  "language_info": {
   "codemirror_mode": {
    "name": "ipython",
    "version": 3
   },
   "file_extension": ".py",
   "mimetype": "text/x-python",
   "name": "python",
   "nbconvert_exporter": "python",
   "pygments_lexer": "ipython3",
   "version": "3.10.0"
  },
  "orig_nbformat": 4
 },
 "nbformat": 4,
 "nbformat_minor": 2
}
