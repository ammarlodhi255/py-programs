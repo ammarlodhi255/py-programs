{
 "cells": [
  {
   "cell_type": "code",
   "execution_count": 232,
   "metadata": {},
   "outputs": [
    {
     "name": "stdout",
     "output_type": "stream",
     "text": [
      "      Name        Department\n",
      "0    Ammar  Computer Science\n",
      "1   Mohsin               Bsc\n",
      "2  Muzamil               SEO\n",
      "3   Meezan    Social Science\n",
      "Name                     Ammar\n",
      "Department    Computer Science\n",
      "Name: 0, dtype: object\n"
     ]
    }
   ],
   "source": [
    "import pandas as pd\n",
    "import numpy as np\n",
    "\n",
    "my_arr = {'Name' : ['Ammar', 'Mohsin', 'Muzamil', 'Meezan'],\n",
    "'Department' : ['Computer Science', 'Bsc', 'SEO', 'Social Science']}\n",
    "\n",
    "my_arr = pd.DataFrame(my_arr)\n",
    "print(my_arr)\n",
    "\n",
    "print(my_arr.iloc[0, :])"
   ]
  },
  {
   "cell_type": "code",
   "execution_count": 233,
   "metadata": {},
   "outputs": [
    {
     "name": "stdout",
     "output_type": "stream",
     "text": [
      "Printing calories dataset as Series\n",
      "day1      [420, 890]\n",
      "day2      [500, 670]\n",
      "day3    [1000, 1390]\n",
      "dtype: object\n",
      "calories.shape(): (3,)\n",
      "\n",
      "Printing calories dataset as Datafram\n",
      "   day1  day2  day3\n",
      "0   420   500  1000\n",
      "1   890   670  1390\n",
      "\n",
      "0    420\n",
      "1    890\n",
      "Name: day1, dtype: int64\n",
      "\n",
      "<class 'numpy.ndarray'>\n"
     ]
    }
   ],
   "source": [
    "calories = {'day1' : [420, 890], 'day2' : [500, 670], 'day3' : [1000, 1390]}\n",
    "calories_pd = pd.Series(calories)\n",
    "# With Series there are no indices shown (in case of dict) in the table, also the data is shown in series \n",
    "print(f\"Printing calories dataset as Series\\n{calories_pd}\") \n",
    "\n",
    "print(f\"calories.shape(): {calories_pd.shape}\")\n",
    "\n",
    "calories_pd = pd.DataFrame(calories)\n",
    "print(f\"\\nPrinting calories dataset as Datafram\\n{calories_pd}\\n\");\n",
    "\n",
    "print(f\"{calories_pd['day1']}\\n\")\n",
    "\n",
    "print(f\"{type(calories_pd['day2'].values)}\") # .values returns a numpy array \n"
   ]
  },
  {
   "cell_type": "code",
   "execution_count": 234,
   "metadata": {},
   "outputs": [
    {
     "name": "stdout",
     "output_type": "stream",
     "text": [
      "IRIS DATASET\n",
      "     sepal.length  sepal.width  petal.length  petal.width    variety\n",
      "0             NaN          3.5           1.4          0.2     Setosa\n",
      "1             4.9          3.0           1.4          0.2     Setosa\n",
      "2             4.7          3.2           1.3          0.2     Setosa\n",
      "3             4.6          3.1           1.5          0.2     Setosa\n",
      "4             5.0          3.6           1.4          0.2     Setosa\n",
      "..            ...          ...           ...          ...        ...\n",
      "145           6.7          3.0           5.2          2.3  Virginica\n",
      "146           6.3          2.5           5.0          1.9  Virginica\n",
      "147           6.5          3.0           5.2          2.0  Virginica\n",
      "148           6.2          3.4           5.4          2.3  Virginica\n",
      "149           5.9          3.0           5.1          1.8        NaN\n",
      "\n",
      "[150 rows x 5 columns]\n"
     ]
    }
   ],
   "source": [
    "iris_ds = pd.read_csv(\"D:\\\\University Documents\\\\Assignments\\\\6th Semester\\\\Artificial Intelligence\\\\Datasets\\\\iris.csv\")\n",
    "print(f\"IRIS DATASET\\n{iris_ds}\");\n"
   ]
  },
  {
   "cell_type": "code",
   "execution_count": 235,
   "metadata": {},
   "outputs": [
    {
     "name": "stdout",
     "output_type": "stream",
     "text": [
      "<class 'pandas.core.frame.DataFrame'>\n",
      "RangeIndex: 150 entries, 0 to 149\n",
      "Data columns (total 5 columns):\n",
      " #   Column        Non-Null Count  Dtype  \n",
      "---  ------        --------------  -----  \n",
      " 0   sepal.length  149 non-null    float64\n",
      " 1   sepal.width   150 non-null    float64\n",
      " 2   petal.length  150 non-null    float64\n",
      " 3   petal.width   150 non-null    float64\n",
      " 4   variety       149 non-null    object \n",
      "dtypes: float64(4), object(1)\n",
      "memory usage: 6.0+ KB\n",
      "None\n"
     ]
    }
   ],
   "source": [
    "print(iris_ds.info())"
   ]
  },
  {
   "cell_type": "code",
   "execution_count": 237,
   "metadata": {},
   "outputs": [
    {
     "name": "stdout",
     "output_type": "stream",
     "text": [
      "[0 0 0]\n",
      "     sepal.width  petal.length  petal.width\n",
      "145          3.0           5.2          2.3\n",
      "146          2.5           5.0          1.9\n",
      "147          3.0           5.2          2.0\n",
      "148          3.4           5.4          2.3\n",
      "149          3.0           5.1          1.8\n"
     ]
    }
   ],
   "source": [
    "print(iris_ds.isnull().sum().values)\n",
    "key_values = dict(iris_ds.isnull().sum())\n",
    "\n",
    "for key, value in key_values.items():\n",
    "    if value == 1:\n",
    "        iris_ds = iris_ds.drop(key, 0)\n",
    "\n",
    "print(iris_ds.tail())"
   ]
  },
  {
   "cell_type": "code",
   "execution_count": 247,
   "metadata": {},
   "outputs": [
    {
     "name": "stdout",
     "output_type": "stream",
     "text": [
      "['BMW', 'Ford', 'Tesla']\n"
     ]
    }
   ],
   "source": [
    "cars_ds = {\n",
    "    'cars' : ['BMW', 'Ford', 'Tesla'],\n",
    "    'year' : ['2012', '2010', '2009']\n",
    "}\n",
    "\n",
    "cars_df = pd.Series(cars_ds)\n",
    "print(cars_df[0])"
   ]
  },
  {
   "cell_type": "markdown",
   "metadata": {},
   "source": []
  },
  {
   "cell_type": "code",
   "execution_count": 250,
   "metadata": {},
   "outputs": [
    {
     "data": {
      "text/html": [
       "<div>\n",
       "<style scoped>\n",
       "    .dataframe tbody tr th:only-of-type {\n",
       "        vertical-align: middle;\n",
       "    }\n",
       "\n",
       "    .dataframe tbody tr th {\n",
       "        vertical-align: top;\n",
       "    }\n",
       "\n",
       "    .dataframe thead th {\n",
       "        text-align: right;\n",
       "    }\n",
       "</style>\n",
       "<table border=\"1\" class=\"dataframe\">\n",
       "  <thead>\n",
       "    <tr style=\"text-align: right;\">\n",
       "      <th></th>\n",
       "      <th>cars</th>\n",
       "      <th>year</th>\n",
       "    </tr>\n",
       "  </thead>\n",
       "  <tbody>\n",
       "    <tr>\n",
       "      <th>0</th>\n",
       "      <td>BMW</td>\n",
       "      <td>2012</td>\n",
       "    </tr>\n",
       "    <tr>\n",
       "      <th>1</th>\n",
       "      <td>Ford</td>\n",
       "      <td>2010</td>\n",
       "    </tr>\n",
       "    <tr>\n",
       "      <th>2</th>\n",
       "      <td>Tesla</td>\n",
       "      <td>2009</td>\n",
       "    </tr>\n",
       "  </tbody>\n",
       "</table>\n",
       "</div>"
      ],
      "text/plain": [
       "    cars  year\n",
       "0    BMW  2012\n",
       "1   Ford  2010\n",
       "2  Tesla  2009"
      ]
     },
     "execution_count": 250,
     "metadata": {},
     "output_type": "execute_result"
    }
   ],
   "source": [
    "cars_df = pd.DataFrame(cars_ds)\n",
    "cars_df"
   ]
  },
  {
   "cell_type": "code",
   "execution_count": 263,
   "metadata": {},
   "outputs": [
    {
     "data": {
      "text/plain": [
       "40"
      ]
     },
     "execution_count": 263,
     "metadata": {},
     "output_type": "execute_result"
    }
   ],
   "source": [
    "# Series:\n",
    "\n",
    "my_arr = np.array([1*10, 2*20, 3*30, 4*40], dtype='i')\n",
    "# list_indices = list()\n",
    "list_names =['Ammar', 'Manaf', 'Naveed', 'Haseeb']\n",
    "\n",
    "# for i in range(0, len(my_arr)):\n",
    "#     list_indices.append(list_names[i])\n",
    "\n",
    "arr_sr = pd.Series(my_arr, index=list_names)\n",
    "arr_sr\n",
    "\n",
    "arr_sr['Manaf']"
   ]
  },
  {
   "cell_type": "code",
   "execution_count": 272,
   "metadata": {},
   "outputs": [
    {
     "data": {
      "text/html": [
       "<div>\n",
       "<style scoped>\n",
       "    .dataframe tbody tr th:only-of-type {\n",
       "        vertical-align: middle;\n",
       "    }\n",
       "\n",
       "    .dataframe tbody tr th {\n",
       "        vertical-align: top;\n",
       "    }\n",
       "\n",
       "    .dataframe thead th {\n",
       "        text-align: right;\n",
       "    }\n",
       "</style>\n",
       "<table border=\"1\" class=\"dataframe\">\n",
       "  <thead>\n",
       "    <tr style=\"text-align: right;\">\n",
       "      <th></th>\n",
       "      <th>std_name</th>\n",
       "      <th>Age</th>\n",
       "      <th>Address</th>\n",
       "    </tr>\n",
       "  </thead>\n",
       "  <tbody>\n",
       "    <tr>\n",
       "      <th>0</th>\n",
       "      <td>Ammar</td>\n",
       "      <td>20</td>\n",
       "      <td>Shikarpur</td>\n",
       "    </tr>\n",
       "    <tr>\n",
       "      <th>1</th>\n",
       "      <td>Haseeb</td>\n",
       "      <td>20</td>\n",
       "      <td>Karachi</td>\n",
       "    </tr>\n",
       "  </tbody>\n",
       "</table>\n",
       "</div>"
      ],
      "text/plain": [
       "  std_name  Age    Address\n",
       "0    Ammar   20  Shikarpur\n",
       "1   Haseeb   20    Karachi"
      ]
     },
     "execution_count": 272,
     "metadata": {},
     "output_type": "execute_result"
    }
   ],
   "source": [
    "# Dataframe\n",
    "\n",
    "std_info = {\n",
    "    'std_name' : ['Ammar', 'Haseeb', 'Manaf', 'Naveed'],\n",
    "    'Age': [20, 20, 21, 22],\n",
    "    'Address': ['Shikarpur', 'Karachi', 'Halani', 'Larkana']}\n",
    "\n",
    "std_ds = pd.DataFrame(std_info)\n",
    "std_ds.loc[0].values[0]\n",
    "\n",
    "std_ds.loc[[0, 1]] # returns a entire new dataframe containing the specified rows"
   ]
  },
  {
   "cell_type": "code",
   "execution_count": 273,
   "metadata": {},
   "outputs": [
    {
     "name": "stdout",
     "output_type": "stream",
     "text": [
      "<class 'pandas.core.frame.DataFrame'>\n",
      "RangeIndex: 150 entries, 0 to 149\n",
      "Data columns (total 5 columns):\n",
      " #   Column        Non-Null Count  Dtype  \n",
      "---  ------        --------------  -----  \n",
      " 0   sepal.length  149 non-null    float64\n",
      " 1   sepal.width   150 non-null    float64\n",
      " 2   petal.length  150 non-null    float64\n",
      " 3   petal.width   150 non-null    float64\n",
      " 4   variety       149 non-null    object \n",
      "dtypes: float64(4), object(1)\n",
      "memory usage: 6.0+ KB\n"
     ]
    }
   ],
   "source": [
    "iris_ds = pd.read_csv(\"D:\\\\University Documents\\\\Assignments\\\\6th Semester\\\\Artificial Intelligence\\\\Datasets\\\\iris.csv\")\n",
    "iris_ds.info()"
   ]
  }
 ],
 "metadata": {
  "interpreter": {
   "hash": "d1c379e4bb87bd17207e86234ba81d8c9c52a9ea909236e8453250fcdfd0dbed"
  },
  "kernelspec": {
   "display_name": "Python 3.10.0 64-bit",
   "language": "python",
   "name": "python3"
  },
  "language_info": {
   "codemirror_mode": {
    "name": "ipython",
    "version": 3
   },
   "file_extension": ".py",
   "mimetype": "text/x-python",
   "name": "python",
   "nbconvert_exporter": "python",
   "pygments_lexer": "ipython3",
   "version": "3.10.0"
  },
  "orig_nbformat": 4
 },
 "nbformat": 4,
 "nbformat_minor": 2
}
